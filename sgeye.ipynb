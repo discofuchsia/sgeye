{
 "cells": [
  {
   "cell_type": "code",
   "execution_count": null,
   "metadata": {},
   "outputs": [],
   "source": [
    "pip install streamlit pdfplumber pandas openpyxl"
   ]
  },
  {
   "cell_type": "code",
   "execution_count": null,
   "metadata": {},
   "outputs": [],
   "source": [
    "pip install --upgrade pip"
   ]
  },
  {
   "cell_type": "code",
   "execution_count": 1,
   "metadata": {},
   "outputs": [
    {
     "name": "stderr",
     "output_type": "stream",
     "text": [
      "2025-02-21 07:52:37.669 WARNING streamlit.runtime.scriptrunner_utils.script_run_context: Thread 'MainThread': missing ScriptRunContext! This warning can be ignored when running in bare mode.\n",
      "2025-02-21 07:52:37.736 \n",
      "  \u001b[33m\u001b[1mWarning:\u001b[0m to view this Streamlit app on a browser, run it with the following\n",
      "  command:\n",
      "\n",
      "    streamlit run /Users/Jules.Gerard/Library/Python/3.9/lib/python/site-packages/ipykernel_launcher.py [ARGUMENTS]\n",
      "2025-02-21 07:52:37.736 Thread 'MainThread': missing ScriptRunContext! This warning can be ignored when running in bare mode.\n",
      "2025-02-21 07:52:37.736 Thread 'MainThread': missing ScriptRunContext! This warning can be ignored when running in bare mode.\n",
      "2025-02-21 07:52:37.737 Thread 'MainThread': missing ScriptRunContext! This warning can be ignored when running in bare mode.\n",
      "2025-02-21 07:52:37.737 Thread 'MainThread': missing ScriptRunContext! This warning can be ignored when running in bare mode.\n",
      "2025-02-21 07:52:37.737 Thread 'MainThread': missing ScriptRunContext! This warning can be ignored when running in bare mode.\n",
      "2025-02-21 07:52:37.737 Thread 'MainThread': missing ScriptRunContext! This warning can be ignored when running in bare mode.\n",
      "2025-02-21 07:52:37.737 Thread 'MainThread': missing ScriptRunContext! This warning can be ignored when running in bare mode.\n",
      "2025-02-21 07:52:37.738 Thread 'MainThread': missing ScriptRunContext! This warning can be ignored when running in bare mode.\n",
      "2025-02-21 07:52:37.738 Thread 'MainThread': missing ScriptRunContext! This warning can be ignored when running in bare mode.\n",
      "2025-02-21 07:52:37.738 Thread 'MainThread': missing ScriptRunContext! This warning can be ignored when running in bare mode.\n",
      "2025-02-21 07:52:37.738 Thread 'MainThread': missing ScriptRunContext! This warning can be ignored when running in bare mode.\n",
      "2025-02-21 07:52:37.738 Thread 'MainThread': missing ScriptRunContext! This warning can be ignored when running in bare mode.\n",
      "2025-02-21 07:52:37.738 Thread 'MainThread': missing ScriptRunContext! This warning can be ignored when running in bare mode.\n",
      "2025-02-21 07:52:37.739 Thread 'MainThread': missing ScriptRunContext! This warning can be ignored when running in bare mode.\n",
      "2025-02-21 07:52:37.739 Thread 'MainThread': missing ScriptRunContext! This warning can be ignored when running in bare mode.\n"
     ]
    }
   ],
   "source": [
    "try:\n",
    "    import streamlit as st\n",
    "    import pandas as pd\n",
    "    import pdfplumber\n",
    "    import re\n",
    "except ModuleNotFoundError as e:\n",
    "    print(\"Required modules are not installed. Please install them using:\")\n",
    "    print(\"pip install streamlit pdfplumber pandas openpyxl\")\n",
    "    raise e\n",
    "\n",
    "# Function to extract menu items from PDF\n",
    "def extract_menu_items(pdf_path):\n",
    "    menu_items = []\n",
    "    with pdfplumber.open(pdf_path) as pdf:\n",
    "        for page in pdf.pages:\n",
    "            text = page.extract_text()\n",
    "            if text:\n",
    "                lines = text.split('\\n')\n",
    "                for line in lines:\n",
    "                    if re.search(r'\\d{4}', line):  # Simple heuristic to find wine entries\n",
    "                        menu_items.append(line.strip())\n",
    "    return menu_items\n",
    "\n",
    "# Function to match menu items to SGWS product list\n",
    "def match_menu_to_sgws(menu_items, sgws_products):\n",
    "    matches = []\n",
    "    for item in menu_items:\n",
    "        for product in sgws_products:\n",
    "            if product.lower() in item.lower():\n",
    "                matches.append(item)\n",
    "                break\n",
    "    return matches\n",
    "\n",
    "# Load SGWS product list\n",
    "def load_sgws_products(excel_path):\n",
    "    df = pd.read_excel(excel_path)\n",
    "    product_column = df.columns[0]  # Assuming first column has product names\n",
    "    return df[product_column].dropna().astype(str).tolist()\n",
    "\n",
    "# Streamlit UI\n",
    "st.title(\"SGEYE: Wine Menu Analysis\")\n",
    "\n",
    "st.sidebar.header(\"Upload Files\")\n",
    "pdf_file = st.sidebar.file_uploader(\"Upload Wine Menu (PDF)\", type=[\"pdf\"])\n",
    "excel_file = st.sidebar.file_uploader(\"Upload SGWS Product List (Excel)\", type=[\"xlsx\"])\n",
    "\n",
    "if pdf_file and excel_file:\n",
    "    st.sidebar.success(\"Files uploaded successfully!\")\n",
    "   \n",
    "    # Extract menu items\n",
    "    menu_items = extract_menu_items(pdf_file)\n",
    "    st.subheader(\"Extracted Menu Items\")\n",
    "    st.write(menu_items)\n",
    "   \n",
    "    # Load SGWS product list\n",
    "    sgws_products = load_sgws_products(excel_file)\n",
    "   \n",
    "    # Match menu to SGWS product list\n",
    "    matched_items = match_menu_to_sgws(menu_items, sgws_products)\n",
    "   \n",
    "    # Calculate percentage\n",
    "    match_percentage = (len(matched_items) / len(menu_items)) * 100 if menu_items else 0\n",
    "   \n",
    "    st.subheader(\"Matching Results\")\n",
    "    st.write(f\"{len(matched_items)} out of {len(menu_items)} items matched ({match_percentage:.2f}%)\")\n",
    "    st.write(matched_items)\n",
    "else:\n",
    "    st.sidebar.warning(\"Please upload both files to proceed.\")"
   ]
  },
  {
   "cell_type": "code",
   "execution_count": null,
   "metadata": {},
   "outputs": [],
   "source": [
    "pip install watchdog"
   ]
  }
 ],
 "metadata": {
  "kernelspec": {
   "display_name": "Python 3",
   "language": "python",
   "name": "python3"
  },
  "language_info": {
   "codemirror_mode": {
    "name": "ipython",
    "version": 3
   },
   "file_extension": ".py",
   "mimetype": "text/x-python",
   "name": "python",
   "nbconvert_exporter": "python",
   "pygments_lexer": "ipython3",
   "version": "3.9.6"
  }
 },
 "nbformat": 4,
 "nbformat_minor": 2
}
